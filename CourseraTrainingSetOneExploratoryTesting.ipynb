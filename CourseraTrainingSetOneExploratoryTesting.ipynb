{
 "cells": [
  {
   "cell_type": "markdown",
   "metadata": {},
   "source": [
    "# Coursera Training Set One Exploratory Testing"
   ]
  },
  {
   "cell_type": "code",
   "execution_count": 5,
   "metadata": {},
   "outputs": [],
   "source": [
    "from pyspark.sql import SparkSession\n",
    "import matplotlib.pyplot as plt\n",
    "from coursera_data_cleaner import clean_coursera_data\n",
    "\n",
    "spark = SparkSession.builder \\\n",
    "    .master(\"local\") \\\n",
    "    .appName(\"Coursera\") \\\n",
    "    .getOrCreate()\n",
    "\n",
    "dataFile = \"test_data/CourseraTrainingSet1.csv\"\n",
    "#raw_data = spark.read.csv(dataFile, header=True)\n",
    "\n",
    "raw_data = spark.read.option('escape','\"').csv(dataFile, header=True)"
   ]
  },
  {
   "cell_type": "code",
   "execution_count": 6,
   "metadata": {
    "pycharm": {
     "name": "#%%\n"
    }
   },
   "outputs": [
    {
     "name": "stderr",
     "output_type": "stream",
     "text": [
      "/Users/todd.a.flanders/common/workspaces/python/jupiter/venv/lib/python3.8/site-packages/pyspark/sql/dataframe.py:138: FutureWarning: Deprecated in 2.0, use createOrReplaceTempView instead.\n",
      "  warnings.warn(\n",
      "[Stage 2:>                                                          (0 + 1) / 1]\r"
     ]
    },
    {
     "name": "stdout",
     "output_type": "stream",
     "text": [
      "+--------------------+--------------------+-----------+------------------------+---------------+\n",
      "|              Skills| Expected Department| Department|Expected Primary Subject|Primary Subject|\n",
      "+--------------------+--------------------+-----------+------------------------+---------------+\n",
      "|Drama  Comedy  pe...|                Film|       null|          Screen Writing|           null|\n",
      "|Finance  business...|            Business|       null|                 Finance|           null|\n",
      "|chemistry  physic...|Electrical Engine...|       null|            Solar Energy|           null|\n",
      "|accounts receivab...|            Business|       null|                 Finance|           null|\n",
      "|Data Analysis  se...|         Programming|Programming|                     SQL|            SQL|\n",
      "|maintenance  test...|         Programming|       null|         Test Automation|           null|\n",
      "|marketing plan  P...|            Business|       null|               Marketing|           null|\n",
      "|inference  ml (pr...|         Programming|       null|               Languages|           null|\n",
      "|Planning  Peer Re...|            Business|       null|              Leadership|           null|\n",
      "|Russian  market (...|            Business|       null|           International|           null|\n",
      "|project  modeling...|         Programming|       null|              Management|           null|\n",
      "|Average  Planning...|            Business|       null|              Leadership|           null|\n",
      "|Security Design  ...|         Programming|       null|                Security|           null|\n",
      "|Statistical Analy...|            Business|       null|                Analysis|           null|\n",
      "|evaluation  softw...|         Programming|       null|            Spreadsheets|           null|\n",
      "|sustainability  r...|              Health|       null|                     R&D|           null|\n",
      "|semantics  Python...|         Programming|       null|                  Python|           null|\n",
      "|neuroscience  Dat...|         Programming|       null|            Data Science|           null|\n",
      "|Data Structures  ...|         Programming|       null|            Data Science|           null|\n",
      "|systems architect...|         Programming|       null|            Data Science|           null|\n",
      "+--------------------+--------------------+-----------+------------------------+---------------+\n",
      "\n"
     ]
    },
    {
     "name": "stderr",
     "output_type": "stream",
     "text": [
      "                                                                                \r"
     ]
    }
   ],
   "source": [
    "cleaned_data = clean_coursera_data(raw_data)\n",
    "cleaned_data.select('Skills', 'Expected Department', 'Department', 'Expected Primary Subject', 'Primary Subject').show(99)"
   ]
  },
  {
   "cell_type": "code",
   "execution_count": 6,
   "metadata": {
    "pycharm": {
     "name": "#%%\n"
    }
   },
   "outputs": [],
   "source": []
  }
 ],
 "metadata": {
  "kernelspec": {
   "display_name": "Python 3 (ipykernel)",
   "language": "python",
   "name": "python3"
  },
  "language_info": {
   "codemirror_mode": {
    "name": "ipython",
    "version": 3
   },
   "file_extension": ".py",
   "mimetype": "text/x-python",
   "name": "python",
   "nbconvert_exporter": "python",
   "pygments_lexer": "ipython3",
   "version": "3.8.1"
  }
 },
 "nbformat": 4,
 "nbformat_minor": 1
}