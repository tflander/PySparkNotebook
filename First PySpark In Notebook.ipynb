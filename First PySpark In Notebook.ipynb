{
 "cells": [
  {
   "cell_type": "code",
   "execution_count": 8,
   "id": "a160b0dd",
   "metadata": {},
   "outputs": [],
   "source": [
    "from pyspark.sql import SparkSession\n",
    "import matplotlib.pyplot as plt\n",
    "from coursera_data_cleaner import clean_coursera_data\n",
    "\n",
    "spark = SparkSession.builder \\\n",
    "    .master(\"local\") \\\n",
    "    .appName(\"Coursera\") \\\n",
    "    .getOrCreate()\n",
    "\n",
    "dataFile = \"Coursera.csv\"\n",
    "raw_data = spark.read.csv(dataFile, header=True)\n"
   ]
  },
  {
   "cell_type": "code",
   "execution_count": 10,
   "id": "19c29502",
   "metadata": {
    "pycharm": {
     "name": "#%%\n"
    }
   },
   "outputs": [
    {
     "name": "stdout",
     "output_type": "stream",
     "text": [
      "40\n",
      "+--------------------------------------------------------------------+\n",
      "|Course Name                                                         |\n",
      "+--------------------------------------------------------------------+\n",
      "|Retrieve Data using Single-Table SQL Queries                        |\n",
      "|Mastering SQL Joins                                                 |\n",
      "|Create a Database with the Modeling Tool in MySQL Workbench         |\n",
      "|Create Relational Database Tables Using SQLiteStudio                |\n",
      "|Managing Big Data with MySQL                                        |\n",
      "|Complex Retrieval Queries in MySQL Workbench                        |\n",
      "|Performing Data Definition and Manipulation in SQL                  |\n",
      "|Performing Data Aggregation using SQL Aggregate Functions           |\n",
      "|Databases and SQL for Data Science                                  |\n",
      "|Advanced SQL Retrieval Queries in SQLiteStudio                      |\n",
      "|Create a Python Application using MySQL                             |\n",
      "|Create Your First NoSQL Database with MongoDB and Compass           |\n",
      "|Advanced Features with Relational Database Tables Using SQLiteStudio|\n",
      "|Databases and SQL for Data Science                                  |\n",
      "|Databases and SQL for Data Science                                  |\n",
      "|Building a Dynamic Web App using PHP & MySQL                        |\n",
      "|Intermediate Relational Database and SQL                            |\n",
      "|Foundations for Big Data Analysis with SQL                          |\n",
      "|Creating Database Tables with SQL                                   |\n",
      "|Big Data Analysis: Hive, Spark SQL, DataFrames and GraphFrames      |\n",
      "|SQL for Data Science                                                |\n",
      "|Advanced Relational Database and SQL                                |\n",
      "|Building Basic Relational Databases in�SQL Server Management Studio |\n",
      "|Distributed Computing with Spark SQL                                |\n",
      "|Simple Retrieval Queries in MySQL Workbench                         |\n",
      "|SQL Joins                                                           |\n",
      "|Amazon DynamoDB: Building NoSQL Database-Driven Applications        |\n",
      "|Analyzing Big Data with SQL                                         |\n",
      "|Structured Query Language (SQL) using SAS                           |\n",
      "|Querying Databases Using SQL SELECT statement                       |\n",
      "|Introduction to Structured Query Language (SQL)                     |\n",
      "|Explore stock prices with Spark SQL                                 |\n",
      "|Manipulating Data with SQL                                          |\n",
      "|NoSQL systems                                                       |\n",
      "|Introduction to Relational Database and SQL                         |\n",
      "|CRUD Operations using MongoDB NoSQL                                 |\n",
      "|Retrieve Data with Multiple-Table SQL Queries                       |\n",
      "|Beginning SQL Server                                                |\n",
      "|Database Design with SQL Server Management Studio (SSMS)            |\n",
      "|SQL for Data Science Capstone Project                               |\n",
      "+--------------------------------------------------------------------+\n",
      "\n"
     ]
    }
   ],
   "source": [
    "cleaned_data = clean_coursera_data(spark, raw_data)\n",
    "classified_rows = cleaned_data.filter(cleaned_data['Department'].isNotNull())\n",
    "print(classified_rows.count())\n",
    "classified_rows.select('Course Name').show(99, False)"
   ]
  },
  {
   "cell_type": "code",
   "execution_count": 11,
   "outputs": [
    {
     "name": "stdout",
     "output_type": "stream",
     "text": [
      "+-----------+-----+\n",
      "|Department |count|\n",
      "+-----------+-----+\n",
      "|null       |3491 |\n",
      "|Programming|40   |\n",
      "+-----------+-----+\n",
      "\n"
     ]
    }
   ],
   "source": [
    "summary_by_department = cleaned_data.groupBy('Department').count()\n",
    "print('Count of Courses by Department')\n",
    "summary_by_department.show(truncate=False)"
   ],
   "metadata": {
    "collapsed": false,
    "pycharm": {
     "name": "#%%\n"
    }
   }
  },
  {
   "cell_type": "code",
   "execution_count": 12,
   "outputs": [],
   "source": [
    "summary_rows = summary_by_department.collect()\n",
    "\n",
    "departments = list(map(lambda row: 'n/a' if row[0] is None else row[0], summary_rows))\n",
    "course_count = list(map(lambda row: row[1], summary_rows))"
   ],
   "metadata": {
    "collapsed": false,
    "pycharm": {
     "name": "#%%\n"
    }
   }
  },
  {
   "cell_type": "code",
   "execution_count": 13,
   "id": "2f56d5bf",
   "metadata": {
    "pycharm": {
     "name": "#%%\n"
    }
   },
   "outputs": [
    {
     "data": {
      "text/plain": "<Figure size 432x288 with 1 Axes>",
      "image/png": "[encoded data removed]"
     },
     "metadata": {},
     "output_type": "display_data"
    }
   ],
   "source": [
    "plt.pie(course_count, labels=departments, autopct='%1.1f%%', shadow=True, startangle=140)\n",
    "\n",
    "plt.axis('equal')\n",
    "plt.show()"
   ]
  }
 ],
 "metadata": {
  "kernelspec": {
   "display_name": "Python 3 (ipykernel)",
   "language": "python",
   "name": "python3"
  },
  "language_info": {
   "codemirror_mode": {
    "name": "ipython",
    "version": 3
   },
   "file_extension": ".py",
   "mimetype": "text/x-python",
   "name": "python",
   "nbconvert_exporter": "python",
   "pygments_lexer": "ipython3",
   "version": "3.8.1"
  }
 },
 "nbformat": 4,
 "nbformat_minor": 5
}