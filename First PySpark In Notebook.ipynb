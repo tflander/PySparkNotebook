{
 "cells": [
  {
   "cell_type": "code",
   "execution_count": 1,
   "id": "a160b0dd",
   "metadata": {},
   "outputs": [
    {
     "name": "stderr",
     "output_type": "stream",
     "text": [
      "WARNING: An illegal reflective access operation has occurred\n",
      "WARNING: Illegal reflective access by org.apache.spark.unsafe.Platform (file:/Users/todd.a.flanders/common/workspaces/python/jupiter/venv/lib/python3.8/site-packages/pyspark/jars/spark-unsafe_2.12-3.2.1.jar) to constructor java.nio.DirectByteBuffer(long,int)\n",
      "WARNING: Please consider reporting this to the maintainers of org.apache.spark.unsafe.Platform\n",
      "WARNING: Use --illegal-access=warn to enable warnings of further illegal reflective access operations\n",
      "WARNING: All illegal access operations will be denied in a future release\n",
      "Using Spark's default log4j profile: org/apache/spark/log4j-defaults.properties\n",
      "Setting default log level to \"WARN\".\n",
      "To adjust logging level use sc.setLogLevel(newLevel). For SparkR, use setLogLevel(newLevel).\n",
      "22/01/26 14:33:37 WARN NativeCodeLoader: Unable to load native-hadoop library for your platform... using builtin-java classes where applicable\n"
     ]
    }
   ],
   "source": [
    "from pyspark.sql import SparkSession\n",
    "from coursera_data_cleaner import clean_coursera_data\n",
    "\n",
    "spark = SparkSession.builder \\\n",
    "    .master(\"local\") \\\n",
    "    .appName(\"Coursera\") \\\n",
    "    .getOrCreate()\n",
    "\n",
    "dataFile = \"Coursera.csv\"\n",
    "raw_data = spark.read.csv(dataFile, header=True)\n"
   ]
  },
  {
   "cell_type": "code",
   "execution_count": 2,
   "id": "ced9acee",
   "metadata": {},
   "outputs": [
    {
     "name": "stdout",
     "output_type": "stream",
     "text": [
      "Write A Feature Length Screenplay For Film Or Television\n"
     ]
    }
   ],
   "source": [
    "print(raw_data.first()['Course Name'])\n",
    "\n",
    "assert raw_data.first()['Course Name'] == \"Write A Feature Length Screenplay For Film Or Television\"\n"
   ]
  },
  {
   "cell_type": "code",
   "execution_count": 3,
   "id": "19c29502",
   "metadata": {
    "pycharm": {
     "name": "#%%\n"
    }
   },
   "outputs": [
    {
     "name": "stderr",
     "output_type": "stream",
     "text": [
      "/Users/todd.a.flanders/common/workspaces/python/jupiter/venv/lib/python3.8/site-packages/pyspark/sql/dataframe.py:138: FutureWarning: Deprecated in 2.0, use createOrReplaceTempView instead.\n",
      "  warnings.warn(\n",
      "                                                                                \r"
     ]
    },
    {
     "name": "stdout",
     "output_type": "stream",
     "text": [
      "40\n",
      "+--------------------------------------------------------------------+\n",
      "|Course Name                                                         |\n",
      "+--------------------------------------------------------------------+\n",
      "|Retrieve Data using Single-Table SQL Queries                        |\n",
      "|Mastering SQL Joins                                                 |\n",
      "|Create a Database with the Modeling Tool in MySQL Workbench         |\n",
      "|Create Relational Database Tables Using SQLiteStudio                |\n",
      "|Managing Big Data with MySQL                                        |\n",
      "|Complex Retrieval Queries in MySQL Workbench                        |\n",
      "|Performing Data Definition and Manipulation in SQL                  |\n",
      "|Performing Data Aggregation using SQL Aggregate Functions           |\n",
      "|Databases and SQL for Data Science                                  |\n",
      "|Advanced SQL Retrieval Queries in SQLiteStudio                      |\n",
      "|Create a Python Application using MySQL                             |\n",
      "|Create Your First NoSQL Database with MongoDB and Compass           |\n",
      "|Advanced Features with Relational Database Tables Using SQLiteStudio|\n",
      "|Databases and SQL for Data Science                                  |\n",
      "|Databases and SQL for Data Science                                  |\n",
      "|Building a Dynamic Web App using PHP & MySQL                        |\n",
      "|Intermediate Relational Database and SQL                            |\n",
      "|Foundations for Big Data Analysis with SQL                          |\n",
      "|Creating Database Tables with SQL                                   |\n",
      "|Big Data Analysis: Hive, Spark SQL, DataFrames and GraphFrames      |\n",
      "|SQL for Data Science                                                |\n",
      "|Advanced Relational Database and SQL                                |\n",
      "|Building Basic Relational Databases in�SQL Server Management Studio |\n",
      "|Distributed Computing with Spark SQL                                |\n",
      "|Simple Retrieval Queries in MySQL Workbench                         |\n",
      "|SQL Joins                                                           |\n",
      "|Amazon DynamoDB: Building NoSQL Database-Driven Applications        |\n",
      "|Analyzing Big Data with SQL                                         |\n",
      "|Structured Query Language (SQL) using SAS                           |\n",
      "|Querying Databases Using SQL SELECT statement                       |\n",
      "|Introduction to Structured Query Language (SQL)                     |\n",
      "|Explore stock prices with Spark SQL                                 |\n",
      "|Manipulating Data with SQL                                          |\n",
      "|NoSQL systems                                                       |\n",
      "|Introduction to Relational Database and SQL                         |\n",
      "|CRUD Operations using MongoDB NoSQL                                 |\n",
      "|Retrieve Data with Multiple-Table SQL Queries                       |\n",
      "|Beginning SQL Server                                                |\n",
      "|Database Design with SQL Server Management Studio (SSMS)            |\n",
      "|SQL for Data Science Capstone Project                               |\n",
      "+--------------------------------------------------------------------+\n",
      "\n"
     ]
    }
   ],
   "source": [
    "\n",
    "cleaned_data = clean_coursera_data(spark, raw_data)\n",
    "classified_rows = cleaned_data.filter(cleaned_data['Department'].isNotNull())\n",
    "print(classified_rows.count())\n",
    "classified_rows.select('Course Name').show(99, False)"
   ]
  },
  {
   "cell_type": "code",
   "execution_count": null,
   "id": "2f56d5bf",
   "metadata": {},
   "outputs": [],
   "source": []
  }
 ],
 "metadata": {
  "kernelspec": {
   "display_name": "Python 3 (ipykernel)",
   "language": "python",
   "name": "python3"
  },
  "language_info": {
   "codemirror_mode": {
    "name": "ipython",
    "version": 3
   },
   "file_extension": ".py",
   "mimetype": "text/x-python",
   "name": "python",
   "nbconvert_exporter": "python",
   "pygments_lexer": "ipython3",
   "version": "3.8.1"
  }
 },
 "nbformat": 4,
 "nbformat_minor": 5
}