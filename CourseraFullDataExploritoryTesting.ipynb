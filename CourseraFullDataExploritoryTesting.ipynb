{
 "cells": [
  {
   "cell_type": "markdown",
   "id": "91f9580a",
   "metadata": {},
   "source": [
    "# Coursera Full Data Exploratory Testing"
   ]
  },
  {
   "cell_type": "code",
   "execution_count": 28,
   "id": "a160b0dd",
   "metadata": {},
   "outputs": [],
   "source": [
    "from pyspark.sql import SparkSession\n",
    "import matplotlib.pyplot as plt\n",
    "from coursera_data_cleaner import clean_coursera_data\n",
    "\n",
    "spark = SparkSession.builder \\\n",
    "    .master(\"local\") \\\n",
    "    .appName(\"Coursera\") \\\n",
    "    .getOrCreate()\n",
    "\n",
    "dataFile = \"Coursera.csv\"\n",
    "raw_data = spark.read.option('escape','\"').csv(dataFile, header=True)"
   ]
  },
  {
   "cell_type": "code",
   "execution_count": 29,
   "id": "19c29502",
   "metadata": {
    "pycharm": {
     "name": "#%%\n"
    }
   },
   "outputs": [
    {
     "name": "stdout",
     "output_type": "stream",
     "text": [
      "40\n",
      "+--------------------+-----------+---------------+\n",
      "|              Skills| Department|Primary Subject|\n",
      "+--------------------+-----------+---------------+\n",
      "|Data Analysis  se...|Programming|            SQL|\n",
      "|aggregate functio...|Programming|            SQL|\n",
      "|Databases  java a...|Programming|            SQL|\n",
      "|database manageme...|Programming|            SQL|\n",
      "|SQL  Leadership a...|Programming|            SQL|\n",
      "|relational databa...|Programming|            SQL|\n",
      "|relative change a...|Programming|            SQL|\n",
      "|ascendency  join ...|Programming|            SQL|\n",
      "|Computer Programm...|Programming|            SQL|\n",
      "|nested sql  SQL  ...|Programming|            SQL|\n",
      "|relational databa...|Programming|            SQL|\n",
      "|documents  Databa...|Programming|            SQL|\n",
      "|database manageme...|Programming|            SQL|\n",
      "|Computer Programm...|Programming|            SQL|\n",
      "|Computer Programm...|Programming|            SQL|\n",
      "|Databases  web pa...|Programming|            SQL|\n",
      "|relational databa...|Programming|            SQL|\n",
      "|analytics  hive  ...|Programming|            SQL|\n",
      "|SQL  HTML5  mysql...|Programming|            SQL|\n",
      "|Apache Spark  SQL...|Programming|            SQL|\n",
      "|modeling  Databas...|Programming|            SQL|\n",
      "|PostgreSQL  uniqu...|Programming|            SQL|\n",
      "|running  Database...|Programming|            SQL|\n",
      "|Machine Learning ...|Programming|            SQL|\n",
      "|mysql workbench  ...|Programming|            SQL|\n",
      "|join (sql)  proje...|Programming|            SQL|\n",
      "|NoSQL  Combinatio...|Programming|            SQL|\n",
      "|Databases  ternar...|Programming|            SQL|\n",
      "|join (sql)  havin...|Programming|            SQL|\n",
      "|information retri...|Programming|            SQL|\n",
      "|phpmyadmin  Datab...|Programming|            SQL|\n",
      "|analysis  SQL  st...|Programming|            SQL|\n",
      "|system u  table (...|Programming|            SQL|\n",
      "|graph database  s...|Programming|            SQL|\n",
      "|mysql workbench  ...|Programming|            SQL|\n",
      "|documents  Rowing...|Programming|            SQL|\n",
      "|relational databa...|Programming|            SQL|\n",
      "|backup  sql serve...|Programming|            SQL|\n",
      "|relational databa...|Programming|            SQL|\n",
      "|resource  SQL  an...|Programming|            SQL|\n",
      "+--------------------+-----------+---------------+\n",
      "\n"
     ]
    }
   ],
   "source": [
    "cleaned_data = clean_coursera_data(raw_data)\n",
    "classified_rows = cleaned_data.filter(cleaned_data['Department'].isNotNull())\n",
    "print(classified_rows.count())\n",
    "classified_rows.select('Skills', 'Department', 'Primary Subject').show(99)"
   ]
  },
  {
   "cell_type": "code",
   "execution_count": 30,
   "id": "33742ce7",
   "metadata": {
    "pycharm": {
     "name": "#%%\n"
    }
   },
   "outputs": [
    {
     "name": "stdout",
     "output_type": "stream",
     "text": [
      "Count of Courses by Department\n",
      "+-----------+-----+\n",
      "|Department |count|\n",
      "+-----------+-----+\n",
      "|null       |3491 |\n",
      "|Programming|40   |\n",
      "+-----------+-----+\n",
      "\n"
     ]
    }
   ],
   "source": [
    "summary_by_department = cleaned_data.groupBy('Department').count()\n",
    "print('Count of Courses by Department')\n",
    "summary_by_department.show(truncate=False)"
   ]
  },
  {
   "cell_type": "code",
   "execution_count": 31,
   "id": "66cf8cad",
   "metadata": {
    "pycharm": {
     "name": "#%%\n"
    }
   },
   "outputs": [
    {
     "name": "stdout",
     "output_type": "stream",
     "text": [
      "Count of Courses by Primary Subject\n",
      "+---------------+-----+\n",
      "|Primary Subject|count|\n",
      "+---------------+-----+\n",
      "|null           |3491 |\n",
      "|SQL            |40   |\n",
      "+---------------+-----+\n",
      "\n"
     ]
    }
   ],
   "source": [
    "summary_by_primary_subject = cleaned_data.groupBy('Primary Subject').count()\n",
    "print('Count of Courses by Primary Subject')\n",
    "summary_by_primary_subject.show(truncate=False)"
   ]
  },
  {
   "cell_type": "code",
   "execution_count": 32,
   "id": "d6db00e7",
   "metadata": {
    "pycharm": {
     "name": "#%%\n"
    }
   },
   "outputs": [],
   "source": [
    "summary_by_department_rows = summary_by_department.collect()\n",
    "\n",
    "departments = list(map(lambda row: 'n/a' if row[0] is None else row[0], summary_by_department_rows))\n",
    "course_count_by_department = list(map(lambda row: row[1], summary_by_department_rows))"
   ]
  },
  {
   "cell_type": "code",
   "execution_count": 33,
   "id": "e849a15a",
   "metadata": {
    "pycharm": {
     "name": "#%%\n"
    }
   },
   "outputs": [],
   "source": [
    "summary_by_primary_subject_rows = summary_by_primary_subject.collect()\n",
    "\n",
    "primary_subjects = list(map(lambda row: 'n/a' if row[0] is None else row[0], summary_by_primary_subject_rows))\n",
    "course_count_by_primary_subject = list(map(lambda row: row[1], summary_by_primary_subject_rows))"
   ]
  },
  {
   "cell_type": "code",
   "execution_count": 34,
   "id": "2f56d5bf",
   "metadata": {
    "pycharm": {
     "name": "#%%\n"
    }
   },
   "outputs": [
    {
     "name": "stdout",
     "output_type": "stream",
     "text": [
      "Count of Courses by Department\n"
     ]
    },
    {
     "data": {
      "text/plain": "<Figure size 432x288 with 1 Axes>",
      "image/png": "[encoded data removed]"
     },
     "metadata": {},
     "output_type": "display_data"
    }
   ],
   "source": [
    "plt.pie(course_count_by_department, labels=departments, autopct='%1.1f%%', shadow=True, startangle=140)\n",
    "\n",
    "plt.axis('equal')\n",
    "print('Count of Courses by Department')\n",
    "plt.show()"
   ]
  },
  {
   "cell_type": "code",
   "execution_count": 35,
   "id": "37b82dad",
   "metadata": {
    "pycharm": {
     "name": "#%%\n"
    }
   },
   "outputs": [
    {
     "name": "stdout",
     "output_type": "stream",
     "text": [
      "Count of Courses by Primary Subject\n"
     ]
    },
    {
     "data": {
      "text/plain": "<Figure size 432x288 with 1 Axes>",
      "image/png": "[encoded data removed]"
     },
     "metadata": {},
     "output_type": "display_data"
    }
   ],
   "source": [
    "plt.pie(course_count_by_primary_subject, labels=primary_subjects, autopct='%1.1f%%', shadow=True, startangle=140)\n",
    "\n",
    "plt.axis('equal')\n",
    "print('Count of Courses by Primary Subject')\n",
    "plt.show()"
   ]
  },
  {
   "cell_type": "code",
   "execution_count": 35,
   "id": "66fb5072",
   "metadata": {
    "pycharm": {
     "name": "#%%\n"
    }
   },
   "outputs": [],
   "source": []
  }
 ],
 "metadata": {
  "kernelspec": {
   "display_name": "Python 3 (ipykernel)",
   "language": "python",
   "name": "python3"
  },
  "language_info": {
   "codemirror_mode": {
    "name": "ipython",
    "version": 3
   },
   "file_extension": ".py",
   "mimetype": "text/x-python",
   "name": "python",
   "nbconvert_exporter": "python",
   "pygments_lexer": "ipython3",
   "version": "3.8.1"
  }
 },
 "nbformat": 4,
 "nbformat_minor": 5
}